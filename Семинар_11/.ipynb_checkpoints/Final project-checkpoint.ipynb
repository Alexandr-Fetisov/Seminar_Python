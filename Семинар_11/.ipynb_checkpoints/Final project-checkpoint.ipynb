{
 "cells": [
  {
   "cell_type": "markdown",
   "id": "21ed0166",
   "metadata": {},
   "source": [
    "Итоговый проект."
   ]
  },
  {
   "cell_type": "markdown",
   "id": "a131cc4e",
   "metadata": {},
   "source": [
    "Задание:\n",
    "\n",
    "f(x) = (sin(x)/2 + cos(x)/2) ** 2 * sin(x)\n",
    "\n",
    "1. Определить корни\n",
    "2. Найти интервалы, на которых функция возрастает\n",
    "3. Найти интервалы, на которых функция убывает\n",
    "4. Построить график\n",
    "5. Вычислить вершину\n",
    "6. Определить промежутки, на котором f > 0\n",
    "7. Определить промежутки, на котором f < 0"
   ]
  },
  {
   "cell_type": "code",
   "execution_count": 1,
   "id": "f907c0d8",
   "metadata": {},
   "outputs": [],
   "source": [
    "from sympy.abc import x,y\n",
    "from sympy import  solve, plot, diff, Interval\n",
    "from sympy import sin, cos,  pi, atan, sqrt, evalf"
   ]
  },
  {
   "cell_type": "markdown",
   "id": "926c0896",
   "metadata": {},
   "source": [
    "1. Определить корни"
   ]
  },
  {
   "cell_type": "code",
   "execution_count": 2,
   "id": "601f5f7a",
   "metadata": {},
   "outputs": [
    {
     "data": {
      "text/latex": [
       "$\\displaystyle \\left(\\frac{\\sin{\\left(x \\right)}}{2} + \\frac{\\cos{\\left(x \\right)}}{2}\\right)^{2} \\sin{\\left(x \\right)}$"
      ],
      "text/plain": [
       "(sin(x)/2 + cos(x)/2)**2*sin(x)"
      ]
     },
     "execution_count": 2,
     "metadata": {},
     "output_type": "execute_result"
    }
   ],
   "source": [
    "y = (sin(x)/2 + cos(x)/2)**2*sin(x)\n",
    "y"
   ]
  },
  {
   "cell_type": "code",
   "execution_count": 3,
   "id": "525752f9",
   "metadata": {},
   "outputs": [
    {
     "data": {
      "text/plain": [
       "[0, -pi/4, 3*pi/4, pi]"
      ]
     },
     "execution_count": 3,
     "metadata": {},
     "output_type": "execute_result"
    }
   ],
   "source": [
    "solve (y,x)"
   ]
  },
  {
   "cell_type": "markdown",
   "id": "2e1f26a7",
   "metadata": {},
   "source": [
    "2. Найти интервалы, на которых функция возрастает\n",
    "3. Найти интервалы, на которых функция убывает"
   ]
  },
  {
   "cell_type": "code",
   "execution_count": 4,
   "id": "e7e8b10e",
   "metadata": {
    "scrolled": true
   },
   "outputs": [
    {
     "data": {
      "text/latex": [
       "$\\displaystyle \\left(- \\sin{\\left(x \\right)} + \\cos{\\left(x \\right)}\\right) \\left(\\frac{\\sin{\\left(x \\right)}}{2} + \\frac{\\cos{\\left(x \\right)}}{2}\\right) \\sin{\\left(x \\right)} + \\left(\\frac{\\sin{\\left(x \\right)}}{2} + \\frac{\\cos{\\left(x \\right)}}{2}\\right)^{2} \\cos{\\left(x \\right)}$"
      ],
      "text/plain": [
       "(-sin(x) + cos(x))*(sin(x)/2 + cos(x)/2)*sin(x) + (sin(x)/2 + cos(x)/2)**2*cos(x)"
      ]
     },
     "execution_count": 4,
     "metadata": {},
     "output_type": "execute_result"
    }
   ],
   "source": [
    "derivate = y.diff(x)\n",
    "derivate"
   ]
  },
  {
   "cell_type": "code",
   "execution_count": 5,
   "id": "905f6322",
   "metadata": {},
   "outputs": [
    {
     "data": {
      "text/plain": [
       "[-2*atan(-3/2 + sqrt(6)*sqrt(5 - sqrt(17))/2 + sqrt(17)/2),\n",
       " -pi/4,\n",
       " 2*atan(-sqrt(6)*sqrt(sqrt(17) + 5)/2 + 3/2 + sqrt(17)/2),\n",
       " 2*atan(-sqrt(17)/2 + sqrt(6)*sqrt(5 - sqrt(17))/2 + 3/2),\n",
       " 3*pi/4,\n",
       " 2*atan(3/2 + sqrt(17)/2 + sqrt(6)*sqrt(sqrt(17) + 5)/2)]"
      ]
     },
     "execution_count": 5,
     "metadata": {},
     "output_type": "execute_result"
    }
   ],
   "source": [
    "extremum = solve (derivate,x)\n",
    "extremum.sort()\n",
    "extremum"
   ]
  },
  {
   "cell_type": "code",
   "execution_count": 6,
   "id": "c09d5fe6",
   "metadata": {},
   "outputs": [
    {
     "data": {
      "text/plain": [
       "[-pi,\n",
       " -2*atan(-3/2 + sqrt(6)*sqrt(5 - sqrt(17))/2 + sqrt(17)/2),\n",
       " -pi/4,\n",
       " 2*atan(-sqrt(6)*sqrt(sqrt(17) + 5)/2 + 3/2 + sqrt(17)/2),\n",
       " 2*atan(-sqrt(17)/2 + sqrt(6)*sqrt(5 - sqrt(17))/2 + 3/2),\n",
       " 3*pi/4,\n",
       " 2*atan(3/2 + sqrt(17)/2 + sqrt(6)*sqrt(sqrt(17) + 5)/2),\n",
       " pi]"
      ]
     },
     "execution_count": 6,
     "metadata": {},
     "output_type": "execute_result"
    }
   ],
   "source": [
    "if extremum[0] != -pi:\n",
    "    extremum.insert(0,-pi)\n",
    "if extremum[-1] != pi:\n",
    "    extremum.append(pi)\n",
    "extremum"
   ]
  },
  {
   "cell_type": "code",
   "execution_count": 7,
   "id": "34ebd558",
   "metadata": {},
   "outputs": [
    {
     "name": "stdout",
     "output_type": "stream",
     "text": [
      "функция (sin(x)/2 + cos(x)/2)**2*sin(x) на отрезке от -3.14 до -2.08 убывает\n",
      "функция (sin(x)/2 + cos(x)/2)**2*sin(x) на отрезке от -2.08 до -0.79 возрастает\n",
      "функция (sin(x)/2 + cos(x)/2)**2*sin(x) на отрезке от -0.79 до -0.27 убывает\n",
      "функция (sin(x)/2 + cos(x)/2)**2*sin(x) на отрезке от -0.27 до 1.06 возрастает\n",
      "функция (sin(x)/2 + cos(x)/2)**2*sin(x) на отрезке от 1.06 до 2.36 убывает\n",
      "функция (sin(x)/2 + cos(x)/2)**2*sin(x) на отрезке от 2.36 до 2.87 возрастает\n",
      "функция (sin(x)/2 + cos(x)/2)**2*sin(x) на отрезке от 2.87 до 3.14 убывает\n"
     ]
    }
   ],
   "source": [
    "for i in range (len(extremum)-1):\n",
    "    if derivate.subs(x,(extremum[i].evalf()+extremum[i+1].evalf())/2) > 0:\n",
    "        print (f'функция {y} на отрезке от {round(extremum[i].evalf(), 2)} до {round(extremum[i+1].evalf(), 2)} возрастает')\n",
    "    else:\n",
    "        print (f'функция {y} на отрезке от {round(extremum[i].evalf(), 2)} до {round(extremum[i+1].evalf(), 2)} убывает')"
   ]
  },
  {
   "cell_type": "markdown",
   "id": "8b5f145a",
   "metadata": {},
   "source": [
    "4. Построить график"
   ]
  },
  {
   "cell_type": "code",
   "execution_count": 8,
   "id": "59ec9552",
   "metadata": {},
   "outputs": [
    {
     "data": {
      "image/png": "[encoded data removed]",
      "text/plain": [
       "<Figure size 640x480 with 1 Axes>"
      ]
     },
     "metadata": {},
     "output_type": "display_data"
    }
   ],
   "source": [
    "p = plot (y, (x, -pi, pi))"
   ]
  },
  {
   "cell_type": "markdown",
   "id": "04da70e0",
   "metadata": {},
   "source": [
    "5. Вычислить вершину"
   ]
  },
  {
   "cell_type": "code",
   "execution_count": 9,
   "id": "f2c3e6d1",
   "metadata": {},
   "outputs": [
    {
     "name": "stdout",
     "output_type": "stream",
     "text": [
      "Максимальная вершина 0.404106232073136\n",
      "Минимальная вершина -0.404106232073136\n"
     ]
    }
   ],
   "source": [
    "for i in range (len(extremum)-1):\n",
    "    if i == 0:\n",
    "        min = y.subs(x, extremum[i].evalf())\n",
    "        max = y.subs(x, extremum[i].evalf())\n",
    "    else:\n",
    "        if min > y.subs(x, extremum[i].evalf()):\n",
    "            min = y.subs(x, extremum[i].evalf())\n",
    "        if max < y.subs(x, extremum[i].evalf()):\n",
    "            max = y.subs(x, extremum[i].evalf())\n",
    "print (f'Максимальная вершина {max}')\n",
    "print (f'Минимальная вершина {min}')"
   ]
  },
  {
   "cell_type": "markdown",
   "id": "82796cf0",
   "metadata": {},
   "source": [
    "6. Определить промежутки, на котором f > 0\n",
    "7. Определить промежутки, на котором f < 0"
   ]
  },
  {
   "cell_type": "code",
   "execution_count": 10,
   "id": "4d076680",
   "metadata": {},
   "outputs": [
    {
     "data": {
      "text/plain": [
       "[-pi, -pi/4, 0, 3*pi/4, pi]"
      ]
     },
     "execution_count": 10,
     "metadata": {},
     "output_type": "execute_result"
    }
   ],
   "source": [
    "func = solve (y,x)\n",
    "func.sort()\n",
    "if func[0] != -pi:\n",
    "    func.insert(0,-pi)\n",
    "if func[-1] != pi:\n",
    "    func.append(pi)\n",
    "func"
   ]
  },
  {
   "cell_type": "code",
   "execution_count": 11,
   "id": "8c3d108d",
   "metadata": {},
   "outputs": [
    {
     "name": "stdout",
     "output_type": "stream",
     "text": [
      "значение функции (sin(x)/2 + cos(x)/2)**2*sin(x) на отрезке от -pi до -pi/4 отрицательная\n",
      "значение функции (sin(x)/2 + cos(x)/2)**2*sin(x) на отрезке от -pi/4 до 0 отрицательная\n",
      "значение функции (sin(x)/2 + cos(x)/2)**2*sin(x) на отрезке от 0 до 3*pi/4 положительная\n",
      "значение функции (sin(x)/2 + cos(x)/2)**2*sin(x) на отрезке от 3*pi/4 до pi положительная\n"
     ]
    }
   ],
   "source": [
    "for i in range (len(func)-1):\n",
    "    if y.subs(x,(func[i].evalf()+func[i+1].evalf())/2) > 0:\n",
    "        print (f'значение функции {y} на отрезке от {func[i]} до {func[i+1]} положительная')\n",
    "    else:\n",
    "        print (f'значение функции {y} на отрезке от {func[i]} до {func[i+1]} отрицательная')"
   ]
  }
 ],
 "metadata": {
  "kernelspec": {
   "display_name": "Python 3 (ipykernel)",
   "language": "python",
   "name": "python3"
  },
  "language_info": {
   "codemirror_mode": {
    "name": "ipython",
    "version": 3
   },
   "file_extension": ".py",
   "mimetype": "text/x-python",
   "name": "python",
   "nbconvert_exporter": "python",
   "pygments_lexer": "ipython3",
   "version": "3.9.13"
  },
  "vscode": {
   "interpreter": {
    "hash": "ada3d887a343387fd032f8b1619dcec349ccfed30079f9fe2e3140d3f22311e3"
   }
  }
 },
 "nbformat": 4,
 "nbformat_minor": 5
}
